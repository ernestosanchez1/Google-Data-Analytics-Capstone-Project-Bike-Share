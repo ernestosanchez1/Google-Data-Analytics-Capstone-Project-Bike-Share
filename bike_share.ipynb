{
 "cells": [
  {
   "cell_type": "markdown",
   "metadata": {},
   "source": [
    "# Google Data Analytics Capstone: Bike-Share Case Study\n"
   ]
  },
  {
   "cell_type": "markdown",
   "metadata": {},
   "source": [
    "<img src=\"shutterstock_364832024.jpg\" style=\"width:650px;height:450px;\">"
   ]
  },
  {
   "cell_type": "markdown",
   "metadata": {},
   "source": [
    "## About this project\n",
    "You are a junior data analyst working in the marketing analyst team at Cyclistic, a bike-share company in Chicago. The director\n",
    "of marketing believes the company’s future success depends on maximizing the number of annual memberships. Therefore,\n",
    "your team wants to understand how casual riders and annual members use Cyclistic bikes differently. From these insights,\n",
    "your team will design a new marketing strategy to convert casual riders into annual members. But first, Cyclistic executives\n",
    "must approve your recommendations, so they must be backed up with compelling data insights and professional data\n",
    "visualizations"
   ]
  },
  {
   "cell_type": "markdown",
   "metadata": {},
   "source": [
    "# 1. **Ask**"
   ]
  },
  {
   "cell_type": "markdown",
   "metadata": {},
   "source": [
    "### **Business Task** \n",
    "The goal of this project is to convert casual users into members in order to maximize the company's future success. To accomplish this, we need to gain a better understanding of casuals' behavior. A comparison of casual and member users would be helpful.\n",
    "\n",
    "### **Stakeholders**\n",
    "Lily Moreno: Director of Marketing.\n",
    "\n",
    "Cyclistic Executive Team: The notoriously detail-oriented executive team will decide whether to approve the\n",
    "recommended marketing program.\n",
    "\n",
    " Cyclistic Marketing Analytics Team: A team of data analysts who are responsible for collecting, analyzing, and\n",
    "reporting data that helps guide Cyclistic marketing strategy."
   ]
  },
  {
   "cell_type": "markdown",
   "metadata": {},
   "source": [
    "# 2. **Prepare**"
   ]
  },
  {
   "cell_type": "markdown",
   "metadata": {},
   "source": [
    "* The dataset have a different name because Cyclistic is a fictional company. However, it's real data and it comes from [Divvy](https://divvybikes.com/) Bikes from Chicago, IL.\n",
    "\n",
    "* [Motivation International Inc.](https://divvy-tripdata.s3.amazonaws.com/index.html) has licensed the data for public use.\n",
    "\n",
    "* A 12-month history of cyclist trips has been downloaded. The period between March 2021 and February 2022.\n",
    "\n",
    "* Due to the total number of rows exceeding one million, I cannot use Excel for this project. I'll be using Python.\n"
   ]
  },
  {
   "cell_type": "markdown",
   "metadata": {},
   "source": [
    "# 3. **Process**"
   ]
  },
  {
   "cell_type": "code",
   "execution_count": 1,
   "metadata": {},
   "outputs": [],
   "source": [
    "#Importing Pandas and NumPy\n",
    "\n",
    "import pandas as pd\n",
    "import numpy as np"
   ]
  },
  {
   "cell_type": "code",
   "execution_count": 2,
   "metadata": {},
   "outputs": [],
   "source": [
    "#importing datasets\n",
    "\n",
    "df1 = pd.read_csv(\"202103-divvy-tripdata.csv\") \n",
    "df2 = pd.read_csv(\"202104-divvy-tripdata.csv\")\n",
    "df3 = pd.read_csv(\"202105-divvy-tripdata.csv\")\n",
    "df4 = pd.read_csv(\"202106-divvy-tripdata.csv\")\n",
    "df5 = pd.read_csv(\"202107-divvy-tripdata.csv\")\n",
    "df6 = pd.read_csv(\"202108-divvy-tripdata.csv\")\n",
    "df7 = pd.read_csv(\"202109-divvy-tripdata.csv\")\n",
    "df8 = pd.read_csv(\"202110-divvy-tripdata.csv\")\n",
    "df9 = pd.read_csv(\"202111-divvy-tripdata.csv\")\n",
    "df10 = pd.read_csv(\"202112-divvy-tripdata.csv\")\n",
    "df11 = pd.read_csv(\"202201-divvy-tripdata.csv\")\n",
    "df12 = pd.read_csv(\"202202-divvy-tripdata.csv\")"
   ]
  },
  {
   "cell_type": "code",
   "execution_count": 3,
   "metadata": {},
   "outputs": [
    {
     "name": "stdout",
     "output_type": "stream",
     "text": [
      "<class 'pandas.core.frame.DataFrame'>\n",
      "Int64Index: 5667986 entries, 0 to 115608\n",
      "Data columns (total 16 columns):\n",
      " #   Column              Dtype  \n",
      "---  ------              -----  \n",
      " 0   ride_id             object \n",
      " 1   rideable_type       object \n",
      " 2   started_at          object \n",
      " 3   ended_at            object \n",
      " 4   month               int64  \n",
      " 5   day                 object \n",
      " 6   hour                int64  \n",
      " 7   start_station_name  object \n",
      " 8   start_station_id    object \n",
      " 9   end_station_name    object \n",
      " 10  end_station_id      object \n",
      " 11  start_lat           float64\n",
      " 12  start_lng           float64\n",
      " 13  end_lat             float64\n",
      " 14  end_lng             float64\n",
      " 15  member_casual       object \n",
      "dtypes: float64(4), int64(2), object(10)\n",
      "memory usage: 735.1+ MB\n"
     ]
    }
   ],
   "source": [
    "#Concatenate all dataframes into one and checking it.\n",
    "\n",
    "data_frames = [df1, df2, df3, df4, df5, df6, df7, df8, df9, df10, df11, df12]\n",
    "df = pd.concat(data_frames)\n",
    "df.info()"
   ]
  },
  {
   "cell_type": "code",
   "execution_count": 4,
   "metadata": {},
   "outputs": [
    {
     "name": "stdout",
     "output_type": "stream",
     "text": [
      "<class 'pandas.core.frame.DataFrame'>\n",
      "Int64Index: 5667986 entries, 0 to 115608\n",
      "Data columns (total 16 columns):\n",
      " #   Column              Dtype  \n",
      "---  ------              -----  \n",
      " 0   ride_id             object \n",
      " 1   rideable_type       object \n",
      " 2   started_at          object \n",
      " 3   ended_at            object \n",
      " 4   month               int64  \n",
      " 5   day                 object \n",
      " 6   hour                int64  \n",
      " 7   start_station_name  object \n",
      " 8   start_station_id    object \n",
      " 9   end_station_name    object \n",
      " 10  end_station_id      object \n",
      " 11  start_lat           float64\n",
      " 12  start_lng           float64\n",
      " 13  end_lat             float64\n",
      " 14  end_lng             float64\n",
      " 15  member_casual       object \n",
      "dtypes: float64(4), int64(2), object(10)\n",
      "memory usage: 735.1+ MB\n"
     ]
    }
   ],
   "source": [
    "#Creating a back up so in case I make a mistake I don't need to start from 0.\n",
    "\n",
    "df_copy = df.copy(deep=True)\n",
    "df_copy.info()"
   ]
  },
  {
   "cell_type": "code",
   "execution_count": 5,
   "metadata": {},
   "outputs": [
    {
     "data": {
      "text/plain": [
       "ride_id               5666039\n",
       "rideable_type               3\n",
       "started_at             457457\n",
       "ended_at               458006\n",
       "month                      12\n",
       "day                         7\n",
       "hour                       24\n",
       "start_station_name        853\n",
       "start_station_id          843\n",
       "end_station_name          854\n",
       "end_station_id            845\n",
       "start_lat              412053\n",
       "start_lng              391237\n",
       "end_lat                440821\n",
       "end_lng                401534\n",
       "member_casual               2\n",
       "dtype: int64"
      ]
     },
     "execution_count": 5,
     "metadata": {},
     "output_type": "execute_result"
    }
   ],
   "source": [
    "#Checking for unique values\n",
    "\n",
    "df_copy.nunique()"
   ]
  },
  {
   "cell_type": "markdown",
   "metadata": {},
   "source": [
    "* The number of unique \"ride_id\" doesn't match the number of df's entries.\n",
    "* There more station names than station id. This mean many station names are linked to multiple station id's"
   ]
  },
  {
   "cell_type": "code",
   "execution_count": 6,
   "metadata": {},
   "outputs": [
    {
     "data": {
      "text/plain": [
       "1947"
      ]
     },
     "execution_count": 6,
     "metadata": {},
     "output_type": "execute_result"
    }
   ],
   "source": [
    "#Confirming \"ride_id\" duplicates. Each \"ride_id\" must be unique.\n",
    "\n",
    "df_copy.ride_id.duplicated().sum()"
   ]
  },
  {
   "cell_type": "code",
   "execution_count": 7,
   "metadata": {},
   "outputs": [
    {
     "data": {
      "text/plain": [
       "0"
      ]
     },
     "execution_count": 7,
     "metadata": {},
     "output_type": "execute_result"
    }
   ],
   "source": [
    "#Dropping ride_id duplicates\n",
    "\n",
    "df_copy.drop_duplicates(subset='ride_id', keep= 'first', inplace= True)\n",
    "df_copy.ride_id.duplicated().sum()"
   ]
  },
  {
   "cell_type": "code",
   "execution_count": 8,
   "metadata": {},
   "outputs": [
    {
     "data": {
      "text/plain": [
       "ride_id                    0\n",
       "rideable_type              0\n",
       "started_at                 0\n",
       "ended_at                   0\n",
       "month                      0\n",
       "day                        0\n",
       "hour                       0\n",
       "start_station_name    712677\n",
       "start_station_id      712674\n",
       "end_station_name      761541\n",
       "end_station_id        761541\n",
       "start_lat                  0\n",
       "start_lng                  0\n",
       "end_lat                 4615\n",
       "end_lng                 4615\n",
       "member_casual              0\n",
       "dtype: int64"
      ]
     },
     "execution_count": 8,
     "metadata": {},
     "output_type": "execute_result"
    }
   ],
   "source": [
    "#Checking for NaN values\n",
    "\n",
    "df_copy.isna().sum()"
   ]
  },
  {
   "cell_type": "code",
   "execution_count": 9,
   "metadata": {},
   "outputs": [
    {
     "data": {
      "text/plain": [
       "ride_id               0\n",
       "rideable_type         0\n",
       "started_at            0\n",
       "ended_at              0\n",
       "month                 0\n",
       "day                   0\n",
       "hour                  0\n",
       "start_station_name    0\n",
       "start_station_id      0\n",
       "end_station_name      0\n",
       "end_station_id        0\n",
       "start_lat             0\n",
       "start_lng             0\n",
       "end_lat               0\n",
       "end_lng               0\n",
       "member_casual         0\n",
       "dtype: int64"
      ]
     },
     "execution_count": 9,
     "metadata": {},
     "output_type": "execute_result"
    }
   ],
   "source": [
    "#Dropping all the NaN values\n",
    "\n",
    "df_copy.dropna(inplace= True)\n",
    "df_copy.isna().sum()"
   ]
  },
  {
   "cell_type": "markdown",
   "metadata": {},
   "source": [
    "# 4. **Analyze**"
   ]
  },
  {
   "cell_type": "markdown",
   "metadata": {},
   "source": [
    "I would like to compare:\n",
    "* The total % of user type\n",
    "* The % of \"member\" that use either classic, electric bike or docked_bike \n",
    "* The % of \"casual\" that use either classic, electric bike or docked_bike\n",
    "* the ride distance average between \"member\" vs \"casual\"\n",
    "* The ride length average between \"member\" vs \"casual\"\n",
    "* The usage between \"member\" vs \"casual\" on hour, day, month  \n",
    "* The station most and least popular"
   ]
  },
  {
   "cell_type": "code",
   "execution_count": 10,
   "metadata": {},
   "outputs": [
    {
     "data": {
      "text/plain": [
       "member    55.7\n",
       "casual    44.3\n",
       "Name: member_casual, dtype: float64"
      ]
     },
     "execution_count": 10,
     "metadata": {},
     "output_type": "execute_result"
    }
   ],
   "source": [
    "#Percentage of total users\n",
    "\n",
    "round(df_copy[\"member_casual\"].value_counts(normalize = True) * 100, 1)"
   ]
  },
  {
   "cell_type": "code",
   "execution_count": 11,
   "metadata": {},
   "outputs": [
    {
     "data": {
      "text/html": [
       "<div>\n",
       "<style scoped>\n",
       "    .dataframe tbody tr th:only-of-type {\n",
       "        vertical-align: middle;\n",
       "    }\n",
       "\n",
       "    .dataframe tbody tr th {\n",
       "        vertical-align: top;\n",
       "    }\n",
       "\n",
       "    .dataframe thead th {\n",
       "        text-align: right;\n",
       "    }\n",
       "</style>\n",
       "<table border=\"1\" class=\"dataframe\">\n",
       "  <thead>\n",
       "    <tr style=\"text-align: right;\">\n",
       "      <th>rideable_type</th>\n",
       "      <th>classic_bike</th>\n",
       "      <th>docked_bike</th>\n",
       "      <th>electric_bike</th>\n",
       "    </tr>\n",
       "    <tr>\n",
       "      <th>member_casual</th>\n",
       "      <th></th>\n",
       "      <th></th>\n",
       "      <th></th>\n",
       "    </tr>\n",
       "  </thead>\n",
       "  <tbody>\n",
       "    <tr>\n",
       "      <th>casual</th>\n",
       "      <td>61.51</td>\n",
       "      <td>15.15</td>\n",
       "      <td>23.34</td>\n",
       "    </tr>\n",
       "    <tr>\n",
       "      <th>member</th>\n",
       "      <td>77.46</td>\n",
       "      <td>NaN</td>\n",
       "      <td>22.54</td>\n",
       "    </tr>\n",
       "  </tbody>\n",
       "</table>\n",
       "</div>"
      ],
      "text/plain": [
       "rideable_type  classic_bike  docked_bike  electric_bike\n",
       "member_casual                                          \n",
       "casual                61.51        15.15          23.34\n",
       "member                77.46          NaN          22.54"
      ]
     },
     "execution_count": 11,
     "metadata": {},
     "output_type": "execute_result"
    }
   ],
   "source": [
    "#The percentage of \"member\" and \"casual\" type that uses classic or electric bike\n",
    "\n",
    "round(df_copy.groupby(\"member_casual\")[\"rideable_type\"].value_counts(normalize = True) * 100, 2).unstack(1)"
   ]
  },
  {
   "cell_type": "markdown",
   "metadata": {},
   "source": [
    "To calculate the average ride distance between \"member\" vs \"casual\". \n",
    "First, I'll need to calculate the distance for each row by using Haversine library"
   ]
  },
  {
   "cell_type": "code",
   "execution_count": 12,
   "metadata": {},
   "outputs": [
    {
     "data": {
      "text/plain": [
       "0         0.861738\n",
       "1         1.290671\n",
       "2         1.653764\n",
       "3         1.885278\n",
       "4         4.310199\n",
       "            ...   \n",
       "115589    0.000000\n",
       "115604    0.000000\n",
       "115606    0.010744\n",
       "115607    0.000000\n",
       "115608    0.000000\n",
       "Name: ride_distance, Length: 4629557, dtype: float64"
      ]
     },
     "execution_count": 12,
     "metadata": {},
     "output_type": "execute_result"
    }
   ],
   "source": [
    "#Haversine can calculate the distance (in various units) between two points on Earth using their latitude and longitude. \n",
    "#from haversine import haversine, Unit \n",
    "#lyon = (45.7597, 4.8422) # (lat, lon)\n",
    "#paris = (48.8567, 2.3508)\n",
    "\n",
    "def haversine(lat1, lon1, lat2, lon2):\n",
    "    lat1, lon1, lat2, lon2 = np.radians([lat1, lon1, lat2, lon2])\n",
    "\n",
    "    a = np.sin((lat2-lat1)/2.0)**2 + \\\n",
    "        np.cos(lat1) * np.cos(lat2) * np.sin((lon2-lon1)/2.0)**2\n",
    "\n",
    "    c = 2 * np.arcsin(np.sqrt(a))\n",
    "    km = 6367 * c\n",
    "    return km\n",
    "    \n",
    "\n",
    "df_copy[\"ride_distance\"] = haversine(df_copy[\"start_lat\"],df_copy[\"start_lng\"],df_copy[\"end_lat\"],df_copy[\"end_lng\"])\n",
    "df_copy[\"ride_distance\"]"
   ]
  },
  {
   "cell_type": "code",
   "execution_count": 13,
   "metadata": {},
   "outputs": [
    {
     "data": {
      "text/html": [
       "<div>\n",
       "<style scoped>\n",
       "    .dataframe tbody tr th:only-of-type {\n",
       "        vertical-align: middle;\n",
       "    }\n",
       "\n",
       "    .dataframe tbody tr th {\n",
       "        vertical-align: top;\n",
       "    }\n",
       "\n",
       "    .dataframe thead th {\n",
       "        text-align: right;\n",
       "    }\n",
       "</style>\n",
       "<table border=\"1\" class=\"dataframe\">\n",
       "  <thead>\n",
       "    <tr style=\"text-align: right;\">\n",
       "      <th></th>\n",
       "      <th>count</th>\n",
       "      <th>mean</th>\n",
       "      <th>std</th>\n",
       "      <th>min</th>\n",
       "      <th>25%</th>\n",
       "      <th>50%</th>\n",
       "      <th>75%</th>\n",
       "      <th>max</th>\n",
       "    </tr>\n",
       "    <tr>\n",
       "      <th>member_casual</th>\n",
       "      <th></th>\n",
       "      <th></th>\n",
       "      <th></th>\n",
       "      <th></th>\n",
       "      <th></th>\n",
       "      <th></th>\n",
       "      <th></th>\n",
       "      <th></th>\n",
       "    </tr>\n",
       "  </thead>\n",
       "  <tbody>\n",
       "    <tr>\n",
       "      <th>casual</th>\n",
       "      <td>2052128.0</td>\n",
       "      <td>2.18</td>\n",
       "      <td>2.14</td>\n",
       "      <td>0.0</td>\n",
       "      <td>0.93</td>\n",
       "      <td>1.70</td>\n",
       "      <td>2.89</td>\n",
       "      <td>1188.78</td>\n",
       "    </tr>\n",
       "    <tr>\n",
       "      <th>member</th>\n",
       "      <td>2577429.0</td>\n",
       "      <td>2.07</td>\n",
       "      <td>1.79</td>\n",
       "      <td>0.0</td>\n",
       "      <td>0.88</td>\n",
       "      <td>1.55</td>\n",
       "      <td>2.71</td>\n",
       "      <td>31.54</td>\n",
       "    </tr>\n",
       "  </tbody>\n",
       "</table>\n",
       "</div>"
      ],
      "text/plain": [
       "                   count  mean   std  min   25%   50%   75%      max\n",
       "member_casual                                                       \n",
       "casual         2052128.0  2.18  2.14  0.0  0.93  1.70  2.89  1188.78\n",
       "member         2577429.0  2.07  1.79  0.0  0.88  1.55  2.71    31.54"
      ]
     },
     "execution_count": 13,
     "metadata": {},
     "output_type": "execute_result"
    }
   ],
   "source": [
    "#Calculating the average ride distance between \"casual\" vs \"member\"\n",
    "\n",
    "df_copy.groupby(\"member_casual\")[\"ride_distance\"].describe().round(2)"
   ]
  },
  {
   "cell_type": "code",
   "execution_count": 14,
   "metadata": {},
   "outputs": [
    {
     "name": "stdout",
     "output_type": "stream",
     "text": [
      "<class 'pandas.core.frame.DataFrame'>\n",
      "Int64Index: 4629557 entries, 0 to 115608\n",
      "Data columns (total 17 columns):\n",
      " #   Column              Dtype         \n",
      "---  ------              -----         \n",
      " 0   ride_id             object        \n",
      " 1   rideable_type       object        \n",
      " 2   started_at          datetime64[ns]\n",
      " 3   ended_at            datetime64[ns]\n",
      " 4   month               int64         \n",
      " 5   day                 object        \n",
      " 6   hour                int64         \n",
      " 7   start_station_name  object        \n",
      " 8   start_station_id    object        \n",
      " 9   end_station_name    object        \n",
      " 10  end_station_id      object        \n",
      " 11  start_lat           float64       \n",
      " 12  start_lng           float64       \n",
      " 13  end_lat             float64       \n",
      " 14  end_lng             float64       \n",
      " 15  member_casual       object        \n",
      " 16  ride_distance       float64       \n",
      "dtypes: datetime64[ns](2), float64(5), int64(2), object(8)\n",
      "memory usage: 635.8+ MB\n"
     ]
    }
   ],
   "source": [
    "#To calculate the average time ride length between \"casual\" vs \"member\". \n",
    "#First, I'll need to change the data type to datetime type and then \"ended_at\" - \"started_at\".\n",
    "\n",
    "df_copy[\"started_at\"] = pd.to_datetime(df_copy[\"started_at\"])\n",
    "df_copy[\"ended_at\"] = pd.to_datetime(df_copy[\"ended_at\"])\n",
    "df_copy.info()"
   ]
  },
  {
   "cell_type": "code",
   "execution_count": 15,
   "metadata": {},
   "outputs": [
    {
     "data": {
      "text/plain": [
       "0        0 days 00:04:00\n",
       "1        0 days 00:10:00\n",
       "2        0 days 00:16:00\n",
       "3        0 days 00:29:00\n",
       "4        0 days 00:18:00\n",
       "               ...      \n",
       "115589   0 days 00:01:00\n",
       "115604   0 days 00:00:00\n",
       "115606   0 days 00:00:00\n",
       "115607   0 days 00:00:00\n",
       "115608   0 days 00:00:00\n",
       "Name: ride_length, Length: 4629557, dtype: timedelta64[ns]"
      ]
     },
     "execution_count": 15,
     "metadata": {},
     "output_type": "execute_result"
    }
   ],
   "source": [
    "df_copy[\"ride_length\"] = df_copy[\"ended_at\"] - df_copy[\"started_at\"]\n",
    "df_copy[\"ride_length\"]"
   ]
  },
  {
   "cell_type": "code",
   "execution_count": 16,
   "metadata": {},
   "outputs": [
    {
     "data": {
      "text/html": [
       "<div>\n",
       "<style scoped>\n",
       "    .dataframe tbody tr th:only-of-type {\n",
       "        vertical-align: middle;\n",
       "    }\n",
       "\n",
       "    .dataframe tbody tr th {\n",
       "        vertical-align: top;\n",
       "    }\n",
       "\n",
       "    .dataframe thead th {\n",
       "        text-align: right;\n",
       "    }\n",
       "</style>\n",
       "<table border=\"1\" class=\"dataframe\">\n",
       "  <thead>\n",
       "    <tr style=\"text-align: right;\">\n",
       "      <th></th>\n",
       "      <th>count</th>\n",
       "      <th>mean</th>\n",
       "      <th>std</th>\n",
       "      <th>min</th>\n",
       "      <th>25%</th>\n",
       "      <th>50%</th>\n",
       "      <th>75%</th>\n",
       "      <th>max</th>\n",
       "    </tr>\n",
       "    <tr>\n",
       "      <th>member_casual</th>\n",
       "      <th></th>\n",
       "      <th></th>\n",
       "      <th></th>\n",
       "      <th></th>\n",
       "      <th></th>\n",
       "      <th></th>\n",
       "      <th></th>\n",
       "      <th></th>\n",
       "    </tr>\n",
       "  </thead>\n",
       "  <tbody>\n",
       "    <tr>\n",
       "      <th>casual</th>\n",
       "      <td>2052128</td>\n",
       "      <td>0 days 00:32:23.620719565</td>\n",
       "      <td>0 days 04:33:45.164141085</td>\n",
       "      <td>-1 days +23:04:00</td>\n",
       "      <td>0 days 00:09:00</td>\n",
       "      <td>0 days 00:17:00</td>\n",
       "      <td>0 days 00:31:00</td>\n",
       "      <td>38 days 20:24:00</td>\n",
       "    </tr>\n",
       "    <tr>\n",
       "      <th>member</th>\n",
       "      <td>2577429</td>\n",
       "      <td>0 days 00:13:02.645450175</td>\n",
       "      <td>0 days 00:17:18.843969724</td>\n",
       "      <td>-1 days +23:06:00</td>\n",
       "      <td>0 days 00:06:00</td>\n",
       "      <td>0 days 00:10:00</td>\n",
       "      <td>0 days 00:16:00</td>\n",
       "      <td>1 days 00:55:00</td>\n",
       "    </tr>\n",
       "  </tbody>\n",
       "</table>\n",
       "</div>"
      ],
      "text/plain": [
       "                 count                       mean                        std  \\\n",
       "member_casual                                                                  \n",
       "casual         2052128  0 days 00:32:23.620719565  0 days 04:33:45.164141085   \n",
       "member         2577429  0 days 00:13:02.645450175  0 days 00:17:18.843969724   \n",
       "\n",
       "                             min              25%              50%  \\\n",
       "member_casual                                                        \n",
       "casual         -1 days +23:04:00  0 days 00:09:00  0 days 00:17:00   \n",
       "member         -1 days +23:06:00  0 days 00:06:00  0 days 00:10:00   \n",
       "\n",
       "                           75%               max  \n",
       "member_casual                                     \n",
       "casual         0 days 00:31:00  38 days 20:24:00  \n",
       "member         0 days 00:16:00   1 days 00:55:00  "
      ]
     },
     "execution_count": 16,
     "metadata": {},
     "output_type": "execute_result"
    }
   ],
   "source": [
    "#Calculating the average ride length between \"casual\" vs \"member\"\n",
    "\n",
    "df_copy.groupby(\"member_casual\")[\"ride_length\"].describe()"
   ]
  },
  {
   "cell_type": "code",
   "execution_count": 18,
   "metadata": {},
   "outputs": [
    {
     "data": {
      "text/html": [
       "<div>\n",
       "<style scoped>\n",
       "    .dataframe tbody tr th:only-of-type {\n",
       "        vertical-align: middle;\n",
       "    }\n",
       "\n",
       "    .dataframe tbody tr th {\n",
       "        vertical-align: top;\n",
       "    }\n",
       "\n",
       "    .dataframe thead th {\n",
       "        text-align: right;\n",
       "    }\n",
       "</style>\n",
       "<table border=\"1\" class=\"dataframe\">\n",
       "  <thead>\n",
       "    <tr style=\"text-align: right;\">\n",
       "      <th>month</th>\n",
       "      <th>1</th>\n",
       "      <th>2</th>\n",
       "      <th>3</th>\n",
       "      <th>4</th>\n",
       "      <th>5</th>\n",
       "      <th>6</th>\n",
       "      <th>7</th>\n",
       "      <th>8</th>\n",
       "      <th>9</th>\n",
       "      <th>10</th>\n",
       "      <th>11</th>\n",
       "      <th>12</th>\n",
       "    </tr>\n",
       "    <tr>\n",
       "      <th>member_casual</th>\n",
       "      <th></th>\n",
       "      <th></th>\n",
       "      <th></th>\n",
       "      <th></th>\n",
       "      <th></th>\n",
       "      <th></th>\n",
       "      <th></th>\n",
       "      <th></th>\n",
       "      <th></th>\n",
       "      <th></th>\n",
       "      <th></th>\n",
       "      <th></th>\n",
       "    </tr>\n",
       "  </thead>\n",
       "  <tbody>\n",
       "    <tr>\n",
       "      <th>casual</th>\n",
       "      <td>12601</td>\n",
       "      <td>15134</td>\n",
       "      <td>75640</td>\n",
       "      <td>120412</td>\n",
       "      <td>216794</td>\n",
       "      <td>304106</td>\n",
       "      <td>369295</td>\n",
       "      <td>341333</td>\n",
       "      <td>292797</td>\n",
       "      <td>189015</td>\n",
       "      <td>69951</td>\n",
       "      <td>45050</td>\n",
       "    </tr>\n",
       "    <tr>\n",
       "      <th>member</th>\n",
       "      <td>67495</td>\n",
       "      <td>74002</td>\n",
       "      <td>130045</td>\n",
       "      <td>177767</td>\n",
       "      <td>234126</td>\n",
       "      <td>304522</td>\n",
       "      <td>322779</td>\n",
       "      <td>332805</td>\n",
       "      <td>328072</td>\n",
       "      <td>288733</td>\n",
       "      <td>185848</td>\n",
       "      <td>131235</td>\n",
       "    </tr>\n",
       "  </tbody>\n",
       "</table>\n",
       "</div>"
      ],
      "text/plain": [
       "month             1      2       3       4       5       6       7       8   \\\n",
       "member_casual                                                                 \n",
       "casual         12601  15134   75640  120412  216794  304106  369295  341333   \n",
       "member         67495  74002  130045  177767  234126  304522  322779  332805   \n",
       "\n",
       "month              9       10      11      12  \n",
       "member_casual                                  \n",
       "casual         292797  189015   69951   45050  \n",
       "member         328072  288733  185848  131235  "
      ]
     },
     "execution_count": 18,
     "metadata": {},
     "output_type": "execute_result"
    }
   ],
   "source": [
    "#The total number of rides per month between \"casual\" and \"member\" users.\n",
    "\n",
    "pd.crosstab(df_copy['member_casual'], df_copy['month'])"
   ]
  },
  {
   "cell_type": "code",
   "execution_count": 20,
   "metadata": {},
   "outputs": [
    {
     "data": {
      "text/plain": [
       "member_casual  day      \n",
       "casual         Saturday     22.73\n",
       "               Sunday       19.73\n",
       "               Friday       14.13\n",
       "               Monday       11.28\n",
       "               Thursday     10.94\n",
       "               Wednesday    10.66\n",
       "               Tuesday      10.53\n",
       "member         Wednesday    15.67\n",
       "               Tuesday      15.43\n",
       "               Thursday     14.67\n",
       "               Friday       14.25\n",
       "               Monday       13.90\n",
       "               Saturday     13.83\n",
       "               Sunday       12.25\n",
       "Name: day, dtype: float64"
      ]
     },
     "execution_count": 20,
     "metadata": {},
     "output_type": "execute_result"
    }
   ],
   "source": [
    "#The busiest days of the week for both users\n",
    "\n",
    "round(df_copy.groupby(\"member_casual\")[\"day\"].value_counts(normalize = True) * 100, 2)"
   ]
  },
  {
   "cell_type": "code",
   "execution_count": 21,
   "metadata": {},
   "outputs": [
    {
     "data": {
      "text/html": [
       "<div>\n",
       "<style scoped>\n",
       "    .dataframe tbody tr th:only-of-type {\n",
       "        vertical-align: middle;\n",
       "    }\n",
       "\n",
       "    .dataframe tbody tr th {\n",
       "        vertical-align: top;\n",
       "    }\n",
       "\n",
       "    .dataframe thead th {\n",
       "        text-align: right;\n",
       "    }\n",
       "</style>\n",
       "<table border=\"1\" class=\"dataframe\">\n",
       "  <thead>\n",
       "    <tr style=\"text-align: right;\">\n",
       "      <th>hour</th>\n",
       "      <th>0</th>\n",
       "      <th>1</th>\n",
       "      <th>2</th>\n",
       "      <th>3</th>\n",
       "      <th>4</th>\n",
       "      <th>5</th>\n",
       "      <th>6</th>\n",
       "      <th>7</th>\n",
       "      <th>8</th>\n",
       "      <th>9</th>\n",
       "      <th>...</th>\n",
       "      <th>14</th>\n",
       "      <th>15</th>\n",
       "      <th>16</th>\n",
       "      <th>17</th>\n",
       "      <th>18</th>\n",
       "      <th>19</th>\n",
       "      <th>20</th>\n",
       "      <th>21</th>\n",
       "      <th>22</th>\n",
       "      <th>23</th>\n",
       "    </tr>\n",
       "    <tr>\n",
       "      <th>member_casual</th>\n",
       "      <th></th>\n",
       "      <th></th>\n",
       "      <th></th>\n",
       "      <th></th>\n",
       "      <th></th>\n",
       "      <th></th>\n",
       "      <th></th>\n",
       "      <th></th>\n",
       "      <th></th>\n",
       "      <th></th>\n",
       "      <th></th>\n",
       "      <th></th>\n",
       "      <th></th>\n",
       "      <th></th>\n",
       "      <th></th>\n",
       "      <th></th>\n",
       "      <th></th>\n",
       "      <th></th>\n",
       "      <th></th>\n",
       "      <th></th>\n",
       "      <th></th>\n",
       "    </tr>\n",
       "  </thead>\n",
       "  <tbody>\n",
       "    <tr>\n",
       "      <th>casual</th>\n",
       "      <td>2.07</td>\n",
       "      <td>1.51</td>\n",
       "      <td>0.96</td>\n",
       "      <td>0.5</td>\n",
       "      <td>0.33</td>\n",
       "      <td>0.44</td>\n",
       "      <td>0.95</td>\n",
       "      <td>1.77</td>\n",
       "      <td>2.44</td>\n",
       "      <td>2.97</td>\n",
       "      <td>...</td>\n",
       "      <td>7.12</td>\n",
       "      <td>7.47</td>\n",
       "      <td>8.19</td>\n",
       "      <td>9.57</td>\n",
       "      <td>8.61</td>\n",
       "      <td>6.60</td>\n",
       "      <td>4.78</td>\n",
       "      <td>4.05</td>\n",
       "      <td>3.74</td>\n",
       "      <td>2.87</td>\n",
       "    </tr>\n",
       "    <tr>\n",
       "      <th>member</th>\n",
       "      <td>0.99</td>\n",
       "      <td>0.65</td>\n",
       "      <td>0.36</td>\n",
       "      <td>0.2</td>\n",
       "      <td>0.24</td>\n",
       "      <td>1.03</td>\n",
       "      <td>2.82</td>\n",
       "      <td>5.18</td>\n",
       "      <td>5.97</td>\n",
       "      <td>4.28</td>\n",
       "      <td>...</td>\n",
       "      <td>5.54</td>\n",
       "      <td>6.48</td>\n",
       "      <td>8.56</td>\n",
       "      <td>10.81</td>\n",
       "      <td>8.96</td>\n",
       "      <td>6.33</td>\n",
       "      <td>4.18</td>\n",
       "      <td>3.06</td>\n",
       "      <td>2.31</td>\n",
       "      <td>1.57</td>\n",
       "    </tr>\n",
       "  </tbody>\n",
       "</table>\n",
       "<p>2 rows × 24 columns</p>\n",
       "</div>"
      ],
      "text/plain": [
       "hour             0     1     2    3     4     5     6     7     8     9   ...  \\\n",
       "member_casual                                                             ...   \n",
       "casual         2.07  1.51  0.96  0.5  0.33  0.44  0.95  1.77  2.44  2.97  ...   \n",
       "member         0.99  0.65  0.36  0.2  0.24  1.03  2.82  5.18  5.97  4.28  ...   \n",
       "\n",
       "hour             14    15    16     17    18    19    20    21    22    23  \n",
       "member_casual                                                               \n",
       "casual         7.12  7.47  8.19   9.57  8.61  6.60  4.78  4.05  3.74  2.87  \n",
       "member         5.54  6.48  8.56  10.81  8.96  6.33  4.18  3.06  2.31  1.57  \n",
       "\n",
       "[2 rows x 24 columns]"
      ]
     },
     "execution_count": 21,
     "metadata": {},
     "output_type": "execute_result"
    }
   ],
   "source": [
    "#The most hours with most occurrences. \n",
    "#Peak hours 7-8 and 16-17-18 for \"member\" are high than then rest\n",
    "\n",
    "round(df_copy.groupby(\"member_casual\")[\"hour\"].value_counts(normalize = True) * 100, 2).unstack(1)"
   ]
  },
  {
   "cell_type": "code",
   "execution_count": 22,
   "metadata": {},
   "outputs": [
    {
     "data": {
      "text/plain": [
       "Streeter Dr & Grand Ave                  3.1\n",
       "Millennium Park                          1.6\n",
       "Michigan Ave & Oak St                    1.4\n",
       "Shedd Aquarium                           1.1\n",
       "Theater on the Lake                      1.0\n",
       "                                        ... \n",
       "Indiana Ave & 133rd St                   0.0\n",
       "351                                      0.0\n",
       "Whipple St & Roosevelt Rd                0.0\n",
       "Wilton Ave & Diversey Pkwy - Charging    0.0\n",
       "Mayfield & Roosevelt Rd                  0.0\n",
       "Name: start_station_name, Length: 840, dtype: float64"
      ]
     },
     "execution_count": 22,
     "metadata": {},
     "output_type": "execute_result"
    }
   ],
   "source": [
    "round(df_copy[df_copy[\"member_casual\"] == \"casual\"][\"start_station_name\"].value_counts(normalize = True) * 100, 1)"
   ]
  },
  {
   "cell_type": "code",
   "execution_count": 23,
   "metadata": {},
   "outputs": [
    {
     "data": {
      "text/plain": [
       "Clark St & Elm St                  0.9\n",
       "Kingsbury St & Kinzie St           0.9\n",
       "Wells St & Concord Ln              0.9\n",
       "Wells St & Elm St                  0.8\n",
       "Dearborn St & Erie St              0.7\n",
       "                                  ... \n",
       "Kildare Ave & 26th St              0.0\n",
       "Lyft Driver Center Private Rack    0.0\n",
       "Maplewood Ave & 59th St            0.0\n",
       "Sacramento Blvd & Polk St          0.0\n",
       "Artesian Ave & 55th St             0.0\n",
       "Name: start_station_name, Length: 824, dtype: float64"
      ]
     },
     "execution_count": 23,
     "metadata": {},
     "output_type": "execute_result"
    }
   ],
   "source": [
    "round(df_copy[df_copy[\"member_casual\"] == \"member\"][\"start_station_name\"].value_counts(normalize = True) * 100, 1)"
   ]
  },
  {
   "cell_type": "code",
   "execution_count": 24,
   "metadata": {},
   "outputs": [],
   "source": [
    "#Output dataset CSV to Tableau\n",
    "\n",
    "df_copy.to_csv('bike_share_cleaned.csv', index = False)"
   ]
  },
  {
   "cell_type": "markdown",
   "metadata": {},
   "source": [
    "# 5. **Share**"
   ]
  },
  {
   "cell_type": "markdown",
   "metadata": {},
   "source": [
    "For this project the visual are viewable on Tableau Public [click here.](https://public.tableau.com/views/bike_share_viz/TotalUsers?:language=en-US&:display_count=n&:origin=viz_share_link)"
   ]
  },
  {
   "cell_type": "markdown",
   "metadata": {},
   "source": [
    "# 6. **Act**"
   ]
  },
  {
   "cell_type": "markdown",
   "metadata": {},
   "source": [
    "### Conclusions:\n",
    "* The majority of the riders are member users.\n",
    "\n",
    "* The average trip time for casual riders was 32 minutes, while the average for members was 13 minutes\n",
    "\n",
    "* During the summer months, casuals outnumber member riders especially on weekends. In cold months, there are fewer rides from casuals. member riders are more consistent throughout the year.\n",
    "\n",
    "* Members bike the most during rush hours on weekdays. On weekends, casual riders outnumber them at any time of the day.\n",
    "\n",
    "* Bike stations near the lakes and parks are the most popular for casual riders. Members are more spread out throughout the city. More into the suburbs.\n",
    "\n",
    "* The most common type of ride among Casual and Member riders is the Classic Bike. The use of electric bikes increases during winter months, especially for Casual users."
   ]
  },
  {
   "cell_type": "markdown",
   "metadata": {},
   "source": [
    "### Recommendations:\n",
    "* Introduce an annual membership plan that allows unlimited minutes and miles/kilometers on weekends.\n",
    "\n",
    "* Consider offering a summer membership plan that enables riders to use bikes for unlimited distance and/or time. During during winter rides are restricted.\n",
    "\n",
    "* Offer a membership plan that allows users to ride bikes if they are picked up and dropped off at nearby stations near the lake, parks, and downtown."
   ]
  }
 ],
 "metadata": {
  "kernelspec": {
   "display_name": "Python 3.10.3 64-bit",
   "language": "python",
   "name": "python3"
  },
  "language_info": {
   "codemirror_mode": {
    "name": "ipython",
    "version": 3
   },
   "file_extension": ".py",
   "mimetype": "text/x-python",
   "name": "python",
   "nbconvert_exporter": "python",
   "pygments_lexer": "ipython3",
   "version": "3.10.3"
  },
  "orig_nbformat": 4,
  "vscode": {
   "interpreter": {
    "hash": "bb10b67d8477542c027b6f54450bfc22339a4ddad7ac8308cf80c3a42ef45bd0"
   }
  }
 },
 "nbformat": 4,
 "nbformat_minor": 2
}
